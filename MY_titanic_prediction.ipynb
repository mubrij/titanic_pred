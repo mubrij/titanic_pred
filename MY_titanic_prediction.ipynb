{
 "cells": [
  {
   "cell_type": "code",
   "execution_count": 2,
   "metadata": {},
   "outputs": [
    {
     "name": "stderr",
     "output_type": "stream",
     "text": [
      "c:\\users\\hp\\appdata\\local\\programs\\python\\python36\\lib\\importlib\\_bootstrap.py:219: RuntimeWarning: numpy.ufunc size changed, may indicate binary incompatibility. Expected 192 from C header, got 216 from PyObject\n",
      "  return f(*args, **kwds)\n"
     ]
    }
   ],
   "source": [
    "import numpy as np\n",
    "import pandas as pd\n",
    "import xgboost as xgb\n",
    "import matplotlib.pyplot as plt\n",
    "from sklearn.model_selection import GridSearchCV\n",
    "from sklearn.linear_model import SGDClassifier\n",
    "from sklearn.ensemble import AdaBoostClassifier\n",
    "from sklearn import svm\n",
    "from sklearn.linear_model import SGDClassifier\n",
    "from sklearn.model_selection import train_test_split\n",
    "from sklearn.preprocessing import StandardScaler\n",
    "from sklearn.ensemble import BaggingClassifier\n",
    "from sklearn.ensemble import RandomForestClassifier\n",
    "from sklearn.tree import DecisionTreeClassifier\n",
    "from sklearn.metrics import confusion_matrix,accuracy_score,classification_report\n",
    "from sklearn.linear_model import LogisticRegression\n",
    "from sklearn.neighbors import KNeighborsClassifier\n",
    "from sklearn.model_selection import cross_val_score"
   ]
  },
  {
   "cell_type": "code",
   "execution_count": 2,
   "metadata": {},
   "outputs": [
    {
     "data": {
      "text/plain": [
       "(418, 11)"
      ]
     },
     "execution_count": 2,
     "metadata": {},
     "output_type": "execute_result"
    }
   ],
   "source": [
    "train_df = pd.read_csv('train.csv')\n",
    "train_df.head()\n",
    "test_df = pd.read_csv('test.csv')\n",
    "test_df.shape"
   ]
  },
  {
   "cell_type": "code",
   "execution_count": 3,
   "metadata": {},
   "outputs": [
    {
     "data": {
      "text/html": [
       "<div>\n",
       "<style scoped>\n",
       "    .dataframe tbody tr th:only-of-type {\n",
       "        vertical-align: middle;\n",
       "    }\n",
       "\n",
       "    .dataframe tbody tr th {\n",
       "        vertical-align: top;\n",
       "    }\n",
       "\n",
       "    .dataframe thead th {\n",
       "        text-align: right;\n",
       "    }\n",
       "</style>\n",
       "<table border=\"1\" class=\"dataframe\">\n",
       "  <thead>\n",
       "    <tr style=\"text-align: right;\">\n",
       "      <th></th>\n",
       "      <th>PassengerId</th>\n",
       "      <th>Pclass</th>\n",
       "      <th>Name</th>\n",
       "      <th>Sex</th>\n",
       "      <th>Age</th>\n",
       "      <th>SibSp</th>\n",
       "      <th>Parch</th>\n",
       "      <th>Ticket</th>\n",
       "      <th>Fare</th>\n",
       "      <th>Cabin</th>\n",
       "      <th>Embarked</th>\n",
       "    </tr>\n",
       "  </thead>\n",
       "  <tbody>\n",
       "    <tr>\n",
       "      <th>0</th>\n",
       "      <td>892</td>\n",
       "      <td>3</td>\n",
       "      <td>Kelly, Mr. James</td>\n",
       "      <td>male</td>\n",
       "      <td>34.5</td>\n",
       "      <td>0</td>\n",
       "      <td>0</td>\n",
       "      <td>330911</td>\n",
       "      <td>7.8292</td>\n",
       "      <td>NaN</td>\n",
       "      <td>Q</td>\n",
       "    </tr>\n",
       "    <tr>\n",
       "      <th>1</th>\n",
       "      <td>893</td>\n",
       "      <td>3</td>\n",
       "      <td>Wilkes, Mrs. James (Ellen Needs)</td>\n",
       "      <td>female</td>\n",
       "      <td>47.0</td>\n",
       "      <td>1</td>\n",
       "      <td>0</td>\n",
       "      <td>363272</td>\n",
       "      <td>7.0000</td>\n",
       "      <td>NaN</td>\n",
       "      <td>S</td>\n",
       "    </tr>\n",
       "    <tr>\n",
       "      <th>2</th>\n",
       "      <td>894</td>\n",
       "      <td>2</td>\n",
       "      <td>Myles, Mr. Thomas Francis</td>\n",
       "      <td>male</td>\n",
       "      <td>62.0</td>\n",
       "      <td>0</td>\n",
       "      <td>0</td>\n",
       "      <td>240276</td>\n",
       "      <td>9.6875</td>\n",
       "      <td>NaN</td>\n",
       "      <td>Q</td>\n",
       "    </tr>\n",
       "    <tr>\n",
       "      <th>3</th>\n",
       "      <td>895</td>\n",
       "      <td>3</td>\n",
       "      <td>Wirz, Mr. Albert</td>\n",
       "      <td>male</td>\n",
       "      <td>27.0</td>\n",
       "      <td>0</td>\n",
       "      <td>0</td>\n",
       "      <td>315154</td>\n",
       "      <td>8.6625</td>\n",
       "      <td>NaN</td>\n",
       "      <td>S</td>\n",
       "    </tr>\n",
       "    <tr>\n",
       "      <th>4</th>\n",
       "      <td>896</td>\n",
       "      <td>3</td>\n",
       "      <td>Hirvonen, Mrs. Alexander (Helga E Lindqvist)</td>\n",
       "      <td>female</td>\n",
       "      <td>22.0</td>\n",
       "      <td>1</td>\n",
       "      <td>1</td>\n",
       "      <td>3101298</td>\n",
       "      <td>12.2875</td>\n",
       "      <td>NaN</td>\n",
       "      <td>S</td>\n",
       "    </tr>\n",
       "  </tbody>\n",
       "</table>\n",
       "</div>"
      ],
      "text/plain": [
       "   PassengerId  Pclass                                          Name     Sex  \\\n",
       "0          892       3                              Kelly, Mr. James    male   \n",
       "1          893       3              Wilkes, Mrs. James (Ellen Needs)  female   \n",
       "2          894       2                     Myles, Mr. Thomas Francis    male   \n",
       "3          895       3                              Wirz, Mr. Albert    male   \n",
       "4          896       3  Hirvonen, Mrs. Alexander (Helga E Lindqvist)  female   \n",
       "\n",
       "    Age  SibSp  Parch   Ticket     Fare Cabin Embarked  \n",
       "0  34.5      0      0   330911   7.8292   NaN        Q  \n",
       "1  47.0      1      0   363272   7.0000   NaN        S  \n",
       "2  62.0      0      0   240276   9.6875   NaN        Q  \n",
       "3  27.0      0      0   315154   8.6625   NaN        S  \n",
       "4  22.0      1      1  3101298  12.2875   NaN        S  "
      ]
     },
     "execution_count": 3,
     "metadata": {},
     "output_type": "execute_result"
    }
   ],
   "source": [
    "#sns.countplot()\n",
    "test_df.head()"
   ]
  },
  {
   "cell_type": "code",
   "execution_count": 4,
   "metadata": {},
   "outputs": [],
   "source": [
    "test_df.pop(\"Cabin\")\n",
    "test_df['Age']=test_df['Age'].fillna(test_df['Age'].dropna().mean())\n",
    "test_df['Fare']=test_df['Fare'].fillna(test_df['Fare'].dropna().mean())\n",
    "em = pd.get_dummies(test_df[\"Embarked\"],drop_first=True)\n",
    "sx = pd.get_dummies(test_df[\"Sex\"],drop_first=True)\n",
    "pc = pd.get_dummies(test_df[\"Pclass\"],drop_first=True)\n",
    "test_dff = pd.concat([test_df,em,sx,pc],axis=1)\n",
    "test_dff.drop(['PassengerId',\"Pclass\",\"Name\",\"Sex\",\"Embarked\",\"Ticket\"],axis=1,inplace=True)"
   ]
  },
  {
   "cell_type": "code",
   "execution_count": 5,
   "metadata": {},
   "outputs": [
    {
     "data": {
      "text/html": [
       "<div>\n",
       "<style scoped>\n",
       "    .dataframe tbody tr th:only-of-type {\n",
       "        vertical-align: middle;\n",
       "    }\n",
       "\n",
       "    .dataframe tbody tr th {\n",
       "        vertical-align: top;\n",
       "    }\n",
       "\n",
       "    .dataframe thead th {\n",
       "        text-align: right;\n",
       "    }\n",
       "</style>\n",
       "<table border=\"1\" class=\"dataframe\">\n",
       "  <thead>\n",
       "    <tr style=\"text-align: right;\">\n",
       "      <th></th>\n",
       "      <th>Age</th>\n",
       "      <th>SibSp</th>\n",
       "      <th>Parch</th>\n",
       "      <th>Fare</th>\n",
       "      <th>Q</th>\n",
       "      <th>S</th>\n",
       "      <th>male</th>\n",
       "      <th>2</th>\n",
       "      <th>3</th>\n",
       "    </tr>\n",
       "  </thead>\n",
       "  <tbody>\n",
       "    <tr>\n",
       "      <th>0</th>\n",
       "      <td>34.50000</td>\n",
       "      <td>0</td>\n",
       "      <td>0</td>\n",
       "      <td>7.8292</td>\n",
       "      <td>1</td>\n",
       "      <td>0</td>\n",
       "      <td>1</td>\n",
       "      <td>0</td>\n",
       "      <td>1</td>\n",
       "    </tr>\n",
       "    <tr>\n",
       "      <th>1</th>\n",
       "      <td>47.00000</td>\n",
       "      <td>1</td>\n",
       "      <td>0</td>\n",
       "      <td>7.0000</td>\n",
       "      <td>0</td>\n",
       "      <td>1</td>\n",
       "      <td>0</td>\n",
       "      <td>0</td>\n",
       "      <td>1</td>\n",
       "    </tr>\n",
       "    <tr>\n",
       "      <th>2</th>\n",
       "      <td>62.00000</td>\n",
       "      <td>0</td>\n",
       "      <td>0</td>\n",
       "      <td>9.6875</td>\n",
       "      <td>1</td>\n",
       "      <td>0</td>\n",
       "      <td>1</td>\n",
       "      <td>1</td>\n",
       "      <td>0</td>\n",
       "    </tr>\n",
       "    <tr>\n",
       "      <th>3</th>\n",
       "      <td>27.00000</td>\n",
       "      <td>0</td>\n",
       "      <td>0</td>\n",
       "      <td>8.6625</td>\n",
       "      <td>0</td>\n",
       "      <td>1</td>\n",
       "      <td>1</td>\n",
       "      <td>0</td>\n",
       "      <td>1</td>\n",
       "    </tr>\n",
       "    <tr>\n",
       "      <th>4</th>\n",
       "      <td>22.00000</td>\n",
       "      <td>1</td>\n",
       "      <td>1</td>\n",
       "      <td>12.2875</td>\n",
       "      <td>0</td>\n",
       "      <td>1</td>\n",
       "      <td>0</td>\n",
       "      <td>0</td>\n",
       "      <td>1</td>\n",
       "    </tr>\n",
       "    <tr>\n",
       "      <th>...</th>\n",
       "      <td>...</td>\n",
       "      <td>...</td>\n",
       "      <td>...</td>\n",
       "      <td>...</td>\n",
       "      <td>...</td>\n",
       "      <td>...</td>\n",
       "      <td>...</td>\n",
       "      <td>...</td>\n",
       "      <td>...</td>\n",
       "    </tr>\n",
       "    <tr>\n",
       "      <th>413</th>\n",
       "      <td>30.27259</td>\n",
       "      <td>0</td>\n",
       "      <td>0</td>\n",
       "      <td>8.0500</td>\n",
       "      <td>0</td>\n",
       "      <td>1</td>\n",
       "      <td>1</td>\n",
       "      <td>0</td>\n",
       "      <td>1</td>\n",
       "    </tr>\n",
       "    <tr>\n",
       "      <th>414</th>\n",
       "      <td>39.00000</td>\n",
       "      <td>0</td>\n",
       "      <td>0</td>\n",
       "      <td>108.9000</td>\n",
       "      <td>0</td>\n",
       "      <td>0</td>\n",
       "      <td>0</td>\n",
       "      <td>0</td>\n",
       "      <td>0</td>\n",
       "    </tr>\n",
       "    <tr>\n",
       "      <th>415</th>\n",
       "      <td>38.50000</td>\n",
       "      <td>0</td>\n",
       "      <td>0</td>\n",
       "      <td>7.2500</td>\n",
       "      <td>0</td>\n",
       "      <td>1</td>\n",
       "      <td>1</td>\n",
       "      <td>0</td>\n",
       "      <td>1</td>\n",
       "    </tr>\n",
       "    <tr>\n",
       "      <th>416</th>\n",
       "      <td>30.27259</td>\n",
       "      <td>0</td>\n",
       "      <td>0</td>\n",
       "      <td>8.0500</td>\n",
       "      <td>0</td>\n",
       "      <td>1</td>\n",
       "      <td>1</td>\n",
       "      <td>0</td>\n",
       "      <td>1</td>\n",
       "    </tr>\n",
       "    <tr>\n",
       "      <th>417</th>\n",
       "      <td>30.27259</td>\n",
       "      <td>1</td>\n",
       "      <td>1</td>\n",
       "      <td>22.3583</td>\n",
       "      <td>0</td>\n",
       "      <td>0</td>\n",
       "      <td>1</td>\n",
       "      <td>0</td>\n",
       "      <td>1</td>\n",
       "    </tr>\n",
       "  </tbody>\n",
       "</table>\n",
       "<p>418 rows × 9 columns</p>\n",
       "</div>"
      ],
      "text/plain": [
       "          Age  SibSp  Parch      Fare  Q  S  male  2  3\n",
       "0    34.50000      0      0    7.8292  1  0     1  0  1\n",
       "1    47.00000      1      0    7.0000  0  1     0  0  1\n",
       "2    62.00000      0      0    9.6875  1  0     1  1  0\n",
       "3    27.00000      0      0    8.6625  0  1     1  0  1\n",
       "4    22.00000      1      1   12.2875  0  1     0  0  1\n",
       "..        ...    ...    ...       ... .. ..   ... .. ..\n",
       "413  30.27259      0      0    8.0500  0  1     1  0  1\n",
       "414  39.00000      0      0  108.9000  0  0     0  0  0\n",
       "415  38.50000      0      0    7.2500  0  1     1  0  1\n",
       "416  30.27259      0      0    8.0500  0  1     1  0  1\n",
       "417  30.27259      1      1   22.3583  0  0     1  0  1\n",
       "\n",
       "[418 rows x 9 columns]"
      ]
     },
     "execution_count": 5,
     "metadata": {},
     "output_type": "execute_result"
    }
   ],
   "source": [
    "test_dff"
   ]
  },
  {
   "cell_type": "code",
   "execution_count": 6,
   "metadata": {},
   "outputs": [],
   "source": [
    "train_df.dropna(inplace=True)\n",
    "train_df.pop(\"Cabin\")\n",
    "em = pd.get_dummies(train_df[\"Embarked\"],drop_first=True)\n",
    "sx = pd.get_dummies(train_df[\"Sex\"],drop_first=True)\n",
    "pc = pd.get_dummies(train_df[\"Pclass\"],drop_first=True)\n",
    "train_df = pd.concat([train_df,em,sx,pc],axis=1)\n",
    "train_df.drop([\"PassengerId\",\"Pclass\",\"Name\",\"Sex\",\"Embarked\",\"Ticket\"],axis=1,inplace=True)\n",
    "x = train_df.drop(\"Survived\",1)\n",
    "y = train_df.Survived.values"
   ]
  },
  {
   "cell_type": "code",
   "execution_count": 7,
   "metadata": {},
   "outputs": [
    {
     "data": {
      "text/plain": [
       "(183, 9)"
      ]
     },
     "execution_count": 7,
     "metadata": {},
     "output_type": "execute_result"
    }
   ],
   "source": [
    "x.shape"
   ]
  },
  {
   "cell_type": "code",
   "execution_count": 8,
   "metadata": {},
   "outputs": [
    {
     "data": {
      "text/plain": [
       "(418, 9)"
      ]
     },
     "execution_count": 8,
     "metadata": {},
     "output_type": "execute_result"
    }
   ],
   "source": [
    "std = StandardScaler()\n",
    "std.fit(x.values)\n",
    "x_std = std.transform(x.values)\n",
    "std.fit(test_dff.values)\n",
    "x_test_data = std.transform(test_dff.values)\n",
    "x_train,x_test,y_train,y_test = train_test_split(x_std,y,test_size=0.1,random_state=42)\n",
    "x_test_data.shape"
   ]
  },
  {
   "cell_type": "code",
   "execution_count": 9,
   "metadata": {},
   "outputs": [],
   "source": [
    "def Print_result(clf,x_train,x_test,y_train,y_test,train=True):\n",
    "    \"\"\"\n",
    "    print the classification report, confusion matrix and accuracy score\n",
    "    \"\"\"\n",
    "    if train:\n",
    "        \"\"\"\n",
    "        Training Result\n",
    "        \"\"\"\n",
    "        print(\"Train Result...\\n\")\n",
    "        print(\"Accuracy:\\n{0:.4f}\".format(accuracy_score(y_train,clf.predict(x_train))))\n",
    "        print(\"classification report:\\n{}\".format(classification_report(y_train,clf.predict(x_train))))\n",
    "        print(\"confusion matrix:\\n{}\".format(confusion_matrix(y_train,clf.predict(x_train))))\n",
    "        \n",
    "        cross = cross_val_score(clf,x_train,y_train,cv=15,scoring=\"accuracy\")\n",
    "        print(\"Average_score:\\n{0:.4f}\".format(cross.mean()))\n",
    "        print(\"Accuracy_std:\\n{0:.4f}\".format(cross.std()))\n",
    "        \n",
    "    if train==False:\n",
    "        \"\"\"\n",
    "        Testing Result\n",
    "        \"\"\"\n",
    "        print(\"Test Result...\\n\")\n",
    "        print(\"Accuracy:\\n{0:.4f}\".format(accuracy_score(y_test,clf.predict(x_test))))\n",
    "        print(\"classification report:\\n{}\".format(classification_report(y_test,clf.predict(x_test))))\n",
    "        print(\"confusion matrix:\\n{}\".format(confusion_matrix(y_test,clf.predict(x_test))))\n",
    "        \n",
    "        cross = cross_val_score(clf,x_test,y_test,cv=10,scoring=\"accuracy\")\n",
    "        print(\"Average_score:\\n{0:.4f}\".format(cross.mean()))\n",
    "        print(\"Accuracy_std:\\n{0:.4f}\".format(cross.std()))"
   ]
  },
  {
   "cell_type": "code",
   "execution_count": 10,
   "metadata": {},
   "outputs": [
    {
     "data": {
      "text/plain": [
       "LogisticRegression(C=1.0, class_weight=None, dual=False, fit_intercept=True,\n",
       "                   intercept_scaling=1, l1_ratio=None, max_iter=100,\n",
       "                   multi_class='auto', n_jobs=None, penalty='l2',\n",
       "                   random_state=None, solver='lbfgs', tol=0.0001, verbose=0,\n",
       "                   warm_start=False)"
      ]
     },
     "execution_count": 10,
     "metadata": {},
     "output_type": "execute_result"
    }
   ],
   "source": [
    "log = LogisticRegression(penalty=\"l2\")\n",
    "log.fit(x_train,y_train)"
   ]
  },
  {
   "cell_type": "code",
   "execution_count": 11,
   "metadata": {
    "scrolled": true
   },
   "outputs": [
    {
     "name": "stdout",
     "output_type": "stream",
     "text": [
      "Train Result...\n",
      "\n",
      "Accuracy:\n",
      "0.7988\n",
      "classification report:\n",
      "              precision    recall  f1-score   support\n",
      "\n",
      "           0       0.69      0.65      0.67        51\n",
      "           1       0.84      0.87      0.86       113\n",
      "\n",
      "    accuracy                           0.80       164\n",
      "   macro avg       0.77      0.76      0.76       164\n",
      "weighted avg       0.80      0.80      0.80       164\n",
      "\n",
      "confusion matrix:\n",
      "[[33 18]\n",
      " [15 98]]\n",
      "Average_score:\n",
      "0.7558\n",
      "Accuracy_std:\n",
      "0.1401\n",
      "Test Result...\n",
      "\n",
      "Accuracy:\n",
      "0.6842\n",
      "classification report:\n",
      "              precision    recall  f1-score   support\n",
      "\n",
      "           0       0.71      0.56      0.63         9\n",
      "           1       0.67      0.80      0.73        10\n",
      "\n",
      "    accuracy                           0.68        19\n",
      "   macro avg       0.69      0.68      0.68        19\n",
      "weighted avg       0.69      0.68      0.68        19\n",
      "\n",
      "confusion matrix:\n",
      "[[5 4]\n",
      " [2 8]]\n"
     ]
    },
    {
     "name": "stderr",
     "output_type": "stream",
     "text": [
      "c:\\users\\hp\\appdata\\local\\programs\\python\\python36\\lib\\site-packages\\sklearn\\model_selection\\_split.py:667: UserWarning: The least populated class in y has only 9 members, which is less than n_splits=10.\n",
      "  % (min_groups, self.n_splits)), UserWarning)\n"
     ]
    },
    {
     "name": "stdout",
     "output_type": "stream",
     "text": [
      "Average_score:\n",
      "0.5500\n",
      "Accuracy_std:\n",
      "0.3500\n"
     ]
    }
   ],
   "source": [
    "Print_result(log,x_train,x_test,y_train,y_test,train=True)\n",
    "Print_result(log,x_train,x_test,y_train,y_test,train=False)"
   ]
  },
  {
   "cell_type": "code",
   "execution_count": 12,
   "metadata": {},
   "outputs": [],
   "source": [
    "#output = pd.DataFrame({'PassengerId': test_df['PassengerId'], 'Survived': y_pred})\n",
    "#output.to_csv('submission2.csv', index=False)\n",
    "#output"
   ]
  },
  {
   "cell_type": "code",
   "execution_count": 13,
   "metadata": {},
   "outputs": [
    {
     "data": {
      "text/plain": [
       "KNeighborsClassifier(algorithm='auto', leaf_size=30, metric='minkowski',\n",
       "                     metric_params=None, n_jobs=-1, n_neighbors=5, p=2,\n",
       "                     weights='uniform')"
      ]
     },
     "execution_count": 13,
     "metadata": {},
     "output_type": "execute_result"
    }
   ],
   "source": [
    "knn = KNeighborsClassifier(n_neighbors=5,n_jobs=-1)\n",
    "knn.fit(x_train,y_train)"
   ]
  },
  {
   "cell_type": "code",
   "execution_count": 14,
   "metadata": {},
   "outputs": [
    {
     "name": "stdout",
     "output_type": "stream",
     "text": [
      "Fitting 5 folds for each of 120 candidates, totalling 600 fits\n"
     ]
    },
    {
     "name": "stderr",
     "output_type": "stream",
     "text": [
      "[Parallel(n_jobs=-1)]: Using backend LokyBackend with 2 concurrent workers.\n",
      "[Parallel(n_jobs=-1)]: Done  46 tasks      | elapsed:   31.7s\n",
      "[Parallel(n_jobs=-1)]: Done 196 tasks      | elapsed:   44.0s\n",
      "[Parallel(n_jobs=-1)]: Done 446 tasks      | elapsed:  1.3min\n",
      "[Parallel(n_jobs=-1)]: Done 600 out of 600 | elapsed:  1.6min finished\n"
     ]
    },
    {
     "data": {
      "text/plain": [
       "GridSearchCV(cv=5, error_score=nan,\n",
       "             estimator=KNeighborsClassifier(algorithm='auto', leaf_size=30,\n",
       "                                            metric='minkowski',\n",
       "                                            metric_params=None, n_jobs=-1,\n",
       "                                            n_neighbors=5, p=2,\n",
       "                                            weights='uniform'),\n",
       "             iid='deprecated', n_jobs=-1,\n",
       "             param_grid={'leaf_size': [20, 30, 10, 40, 50],\n",
       "                         'n_neighbors': [5, 6, 7, 8, 9, 10],\n",
       "                         'p': [2, 3, 4, 5]},\n",
       "             pre_dispatch='2*n_jobs', refit=True, return_train_score=False,\n",
       "             scoring=None, verbose=1)"
      ]
     },
     "execution_count": 14,
     "metadata": {},
     "output_type": "execute_result"
    }
   ],
   "source": [
    "paras = {\"leaf_size\":[20,30,10,40,50],\n",
    "         \"p\":[2,3,4,5],\n",
    "         \"n_neighbors\":[5,6,7,8,9,10]\n",
    "        }\n",
    "grid_knn = GridSearchCV(knn,paras,n_jobs=-1,verbose=1,cv=5)\n",
    "grid_knn.fit(x_train,y_train)"
   ]
  },
  {
   "cell_type": "code",
   "execution_count": 15,
   "metadata": {},
   "outputs": [],
   "source": [
    "y_pred = grid_knn.predict(x_test_data)"
   ]
  },
  {
   "cell_type": "code",
   "execution_count": 16,
   "metadata": {
    "scrolled": true
   },
   "outputs": [
    {
     "name": "stdout",
     "output_type": "stream",
     "text": [
      "Train Result...\n",
      "\n",
      "Accuracy:\n",
      "0.8293\n",
      "classification report:\n",
      "              precision    recall  f1-score   support\n",
      "\n",
      "           0       0.76      0.67      0.71        51\n",
      "           1       0.86      0.90      0.88       113\n",
      "\n",
      "    accuracy                           0.83       164\n",
      "   macro avg       0.81      0.78      0.79       164\n",
      "weighted avg       0.83      0.83      0.83       164\n",
      "\n",
      "confusion matrix:\n",
      "[[ 34  17]\n",
      " [ 11 102]]\n",
      "Average_score:\n",
      "0.7370\n",
      "Accuracy_std:\n",
      "0.1302\n",
      "Test Result...\n",
      "\n",
      "Accuracy:\n",
      "0.6316\n",
      "classification report:\n",
      "              precision    recall  f1-score   support\n",
      "\n",
      "           0       0.62      0.56      0.59         9\n",
      "           1       0.64      0.70      0.67        10\n",
      "\n",
      "    accuracy                           0.63        19\n",
      "   macro avg       0.63      0.63      0.63        19\n",
      "weighted avg       0.63      0.63      0.63        19\n",
      "\n",
      "confusion matrix:\n",
      "[[5 4]\n",
      " [3 7]]\n"
     ]
    },
    {
     "name": "stderr",
     "output_type": "stream",
     "text": [
      "c:\\users\\hp\\appdata\\local\\programs\\python\\python36\\lib\\site-packages\\sklearn\\model_selection\\_split.py:667: UserWarning: The least populated class in y has only 9 members, which is less than n_splits=10.\n",
      "  % (min_groups, self.n_splits)), UserWarning)\n"
     ]
    },
    {
     "name": "stdout",
     "output_type": "stream",
     "text": [
      "Average_score:\n",
      "0.6000\n",
      "Accuracy_std:\n",
      "0.3742\n"
     ]
    }
   ],
   "source": [
    "Print_result(knn,x_train,x_test,y_train,y_test,train=True)\n",
    "Print_result(knn,x_train,x_test,y_train,y_test,train=False)"
   ]
  },
  {
   "cell_type": "code",
   "execution_count": 17,
   "metadata": {},
   "outputs": [
    {
     "data": {
      "text/plain": [
       "0.7918560606060606"
      ]
     },
     "execution_count": 17,
     "metadata": {},
     "output_type": "execute_result"
    }
   ],
   "source": [
    "grid_knn.best_score_"
   ]
  },
  {
   "cell_type": "code",
   "execution_count": 18,
   "metadata": {},
   "outputs": [
    {
     "data": {
      "text/plain": [
       "(418, 2)"
      ]
     },
     "execution_count": 18,
     "metadata": {},
     "output_type": "execute_result"
    }
   ],
   "source": [
    "output = pd.DataFrame({'PassengerId': test_df['PassengerId'], 'Survived': y_pred})\n",
    "output.to_csv('submission4.csv', index=False)\n",
    "output.shape"
   ]
  },
  {
   "cell_type": "code",
   "execution_count": 19,
   "metadata": {},
   "outputs": [
    {
     "data": {
      "text/plain": [
       "XGBClassifier(base_score=0.5, booster='gbtree', colsample_bylevel=1,\n",
       "              colsample_bynode=1, colsample_bytree=1, gamma=1, gpu_id=-1,\n",
       "              importance_type='gain', interaction_constraints='',\n",
       "              learning_rate=0.0001, max_delta_step=0, max_depth=3,\n",
       "              min_child_weight=1, missing=nan, monotone_constraints='()',\n",
       "              n_estimators=500, n_jobs=-1, num_parallel_tree=1,\n",
       "              objective='binary:logistic', random_state=0, reg_alpha=0,\n",
       "              reg_lambda=1, scale_pos_weight=1, subsample=1,\n",
       "              tree_method='exact', validate_parameters=1, verbosity=None)"
      ]
     },
     "execution_count": 19,
     "metadata": {},
     "output_type": "execute_result"
    }
   ],
   "source": [
    "de_clf = xgb.XGBClassifier(max_depth=3,learning_rate=0.0001,n_jobs=-1,\n",
    "                           gamma=1,n_estimators=500)\n",
    "de_clf.fit(x_train,y_train)"
   ]
  },
  {
   "cell_type": "code",
   "execution_count": 20,
   "metadata": {
    "scrolled": true
   },
   "outputs": [
    {
     "name": "stdout",
     "output_type": "stream",
     "text": [
      "Train Result...\n",
      "\n",
      "Accuracy:\n",
      "0.7927\n",
      "classification report:\n",
      "              precision    recall  f1-score   support\n",
      "\n",
      "           0       0.61      0.94      0.74        51\n",
      "           1       0.96      0.73      0.83       113\n",
      "\n",
      "    accuracy                           0.79       164\n",
      "   macro avg       0.79      0.83      0.78       164\n",
      "weighted avg       0.85      0.79      0.80       164\n",
      "\n",
      "confusion matrix:\n",
      "[[48  3]\n",
      " [31 82]]\n",
      "Average_score:\n",
      "0.7248\n",
      "Accuracy_std:\n",
      "0.1263\n",
      "Test Result...\n",
      "\n",
      "Accuracy:\n",
      "0.7368\n",
      "classification report:\n",
      "              precision    recall  f1-score   support\n",
      "\n",
      "           0       0.67      0.89      0.76         9\n",
      "           1       0.86      0.60      0.71        10\n",
      "\n",
      "    accuracy                           0.74        19\n",
      "   macro avg       0.76      0.74      0.73        19\n",
      "weighted avg       0.77      0.74      0.73        19\n",
      "\n",
      "confusion matrix:\n",
      "[[8 1]\n",
      " [4 6]]\n"
     ]
    },
    {
     "name": "stderr",
     "output_type": "stream",
     "text": [
      "c:\\users\\hp\\appdata\\local\\programs\\python\\python36\\lib\\site-packages\\sklearn\\model_selection\\_split.py:667: UserWarning: The least populated class in y has only 9 members, which is less than n_splits=10.\n",
      "  % (min_groups, self.n_splits)), UserWarning)\n"
     ]
    },
    {
     "name": "stdout",
     "output_type": "stream",
     "text": [
      "Average_score:\n",
      "0.4500\n",
      "Accuracy_std:\n",
      "0.4153\n"
     ]
    }
   ],
   "source": [
    "Print_result(de_clf,x_train,x_test,y_train,y_test,train=True)\n",
    "Print_result(de_clf,x_train,x_test,y_train,y_test,train=False)"
   ]
  },
  {
   "cell_type": "code",
   "execution_count": 21,
   "metadata": {
    "scrolled": true
   },
   "outputs": [
    {
     "name": "stdout",
     "output_type": "stream",
     "text": [
      "Fitting 5 folds for each of 9 candidates, totalling 45 fits\n"
     ]
    },
    {
     "name": "stderr",
     "output_type": "stream",
     "text": [
      "[Parallel(n_jobs=-1)]: Using backend LokyBackend with 2 concurrent workers.\n",
      "[Parallel(n_jobs=-1)]: Done  45 out of  45 | elapsed: 113.3min finished\n"
     ]
    },
    {
     "data": {
      "text/plain": [
       "GridSearchCV(cv=5, error_score=nan,\n",
       "             estimator=AdaBoostClassifier(algorithm='SAMME.R',\n",
       "                                          base_estimator=RandomForestClassifier(bootstrap=True,\n",
       "                                                                                ccp_alpha=0.0,\n",
       "                                                                                class_weight=None,\n",
       "                                                                                criterion='gini',\n",
       "                                                                                max_depth=3,\n",
       "                                                                                max_features='auto',\n",
       "                                                                                max_leaf_nodes=None,\n",
       "                                                                                max_samples=None,\n",
       "                                                                                min_impurity_decrease=0.0,\n",
       "                                                                                min_impurity_split=None,\n",
       "                                                                                min_samples_leaf=1,\n",
       "                                                                                min_samples_split=2,\n",
       "                                                                                min_weight_fraction_leaf=0.0,\n",
       "                                                                                n_estimators=200,\n",
       "                                                                                n_jobs=None,\n",
       "                                                                                oob_score=False,\n",
       "                                                                                random_state=None,\n",
       "                                                                                verbose=0,\n",
       "                                                                                warm_start=False),\n",
       "                                          learning_rate=1.0, n_estimators=50,\n",
       "                                          random_state=None),\n",
       "             iid='deprecated', n_jobs=-1,\n",
       "             param_grid={'learning_rate': [0.1, 1.0, 0.01],\n",
       "                         'n_estimators': [50, 500, 100]},\n",
       "             pre_dispatch='2*n_jobs', refit=True, return_train_score=False,\n",
       "             scoring=None, verbose=1)"
      ]
     },
     "execution_count": 21,
     "metadata": {},
     "output_type": "execute_result"
    }
   ],
   "source": [
    "rd_clf = RandomForestClassifier(n_estimators=200,\n",
    "                            criterion='gini',\n",
    "                            max_depth=3)\n",
    "boost_clf = AdaBoostClassifier(base_estimator=rd_clf,n_estimators=50,\n",
    "                            learning_rate=1.0)\n",
    "\n",
    "paras = {\"n_estimators\":[50,500,100],\n",
    "        \"learning_rate\":[0.1,1.0,0.01]}\n",
    "\n",
    "grid_rd = GridSearchCV(boost_clf,paras,n_jobs=-1,verbose=1,cv=5)\n",
    "grid_rd.fit(x_train,y_train)"
   ]
  },
  {
   "cell_type": "code",
   "execution_count": null,
   "metadata": {},
   "outputs": [
    {
     "name": "stdout",
     "output_type": "stream",
     "text": [
      "Train Result...\n",
      "\n",
      "Accuracy:\n",
      "0.8415\n",
      "classification report:\n",
      "              precision    recall  f1-score   support\n",
      "\n",
      "           0       0.82      0.63      0.71        51\n",
      "           1       0.85      0.94      0.89       113\n",
      "\n",
      "    accuracy                           0.84       164\n",
      "   macro avg       0.83      0.78      0.80       164\n",
      "weighted avg       0.84      0.84      0.83       164\n",
      "\n",
      "confusion matrix:\n",
      "[[ 32  19]\n",
      " [  7 106]]\n",
      "Fitting 5 folds for each of 9 candidates, totalling 45 fits\n"
     ]
    },
    {
     "name": "stderr",
     "output_type": "stream",
     "text": [
      "[Parallel(n_jobs=-1)]: Using backend LokyBackend with 2 concurrent workers.\n",
      "[Parallel(n_jobs=-1)]: Done  45 out of  45 | elapsed: 56.4min finished\n"
     ]
    },
    {
     "name": "stdout",
     "output_type": "stream",
     "text": [
      "Fitting 5 folds for each of 9 candidates, totalling 45 fits\n"
     ]
    },
    {
     "name": "stderr",
     "output_type": "stream",
     "text": [
      "[Parallel(n_jobs=-1)]: Using backend LokyBackend with 2 concurrent workers.\n",
      "[Parallel(n_jobs=-1)]: Done  45 out of  45 | elapsed: 630.3min finished\n"
     ]
    },
    {
     "name": "stdout",
     "output_type": "stream",
     "text": [
      "Fitting 5 folds for each of 9 candidates, totalling 45 fits\n"
     ]
    },
    {
     "name": "stderr",
     "output_type": "stream",
     "text": [
      "[Parallel(n_jobs=-1)]: Using backend LokyBackend with 2 concurrent workers.\n",
      "[Parallel(n_jobs=-1)]: Done  45 out of  45 | elapsed: 40.4min finished\n"
     ]
    },
    {
     "name": "stdout",
     "output_type": "stream",
     "text": [
      "Fitting 5 folds for each of 9 candidates, totalling 45 fits\n"
     ]
    },
    {
     "name": "stderr",
     "output_type": "stream",
     "text": [
      "[Parallel(n_jobs=-1)]: Using backend LokyBackend with 2 concurrent workers.\n"
     ]
    }
   ],
   "source": [
    "Print_result(grid_rd,x_train,x_test,y_train,y_test,train=True)\n",
    "Print_result(grid_rd,x_train,x_test,y_train,y_test,train=False)"
   ]
  },
  {
   "cell_type": "code",
   "execution_count": null,
   "metadata": {},
   "outputs": [],
   "source": [
    "ch "
   ]
  },
  {
   "cell_type": "code",
   "execution_count": null,
   "metadata": {},
   "outputs": [],
   "source": [
    "clf = DecisionTreeClassifier(criterion='gini',splitter='best',\n",
    "                        max_depth=2,min_samples_split=2,\n",
    "                        min_samples_leaf=5)\n",
    "\n",
    "paras = {\"max_depth\":[2,3,4,5],\n",
    "            \"min_samples_split\":[2,3,4,5],\n",
    "            \"min_samples_leaf\":[5,6,3,4]}\n",
    "\n",
    "grid_clf = GridSearchCV(clf,paras,n_jobs=-1,verbose=1,cv=5)\n",
    "grid_clf.fit(x_train,y_train)"
   ]
  },
  {
   "cell_type": "code",
   "execution_count": null,
   "metadata": {},
   "outputs": [],
   "source": [
    "Print_result(grid_clf,x_train,x_test,y_train,y_test,train=True)\n",
    "Print_result(grid_clf,x_train,x_test,y_train,y_test,train=False)"
   ]
  },
  {
   "cell_type": "code",
   "execution_count": null,
   "metadata": {},
   "outputs": [],
   "source": [
    "clf = svm.SVC(kernel=\"rbf\",\n",
    "              C=1.0,gamma=0.1)\n",
    "\n",
    "paras = {\"kernel\":[\"linear\",\"hinge\",\"rbf\"],\n",
    "            \"C\":[1.0,0.1,1.00],\n",
    "            \"gamma\":[0.1,0.11,0.01,1.0,\"scale\"],\n",
    "             \"degree\":[2,3],\n",
    "            \"shrinking\":[True,False],\n",
    "            \"probability\":[True,False]\n",
    "        }\n",
    "grid_svm = GridSearchCV(clf,paras,n_jobs=-1,verbose=1,cv=5)\n",
    "grid_svm.fit(x_train,y_train)"
   ]
  },
  {
   "cell_type": "code",
   "execution_count": null,
   "metadata": {},
   "outputs": [],
   "source": [
    "Print_result(grid_svm,x_train,x_test,y_train,y_test,train=True)\n",
    "Print_result(grid_svm,x_train,x_test,y_train,y_test,train=False)"
   ]
  },
  {
   "cell_type": "code",
   "execution_count": null,
   "metadata": {
    "scrolled": true
   },
   "outputs": [],
   "source": [
    "clf = SGDClassifier(random_state=3,loss='modified_huber',penalty='l2',alpha=0.001,\n",
    "                    l1_ratio=0.15, fit_intercept=True,max_iter=200,\n",
    "                    tol=0.001,epsilon=0.011,n_jobs=-1,\n",
    "                    learning_rate='optimal',eta0=0.01,power_t=0.15,\n",
    "                    early_stopping=False,validation_fraction=0.001,\n",
    "                    n_iter_no_change=1,warm_start=True)\n",
    "boost_clf = AdaBoostClassifier(base_estimator=clf,n_estimators=50,\n",
    "                            learning_rate=1.0)\n",
    "\n",
    "paras = {\"n_estimators\":[50,500,100],\n",
    "        \"learning_rate\":[0.1,1.0,0.01]}\n",
    "\n",
    "grid_boost = GridSearchCV(boost_clf,paras,n_jobs=-1,verbose=1,cv=5)\n",
    "grid_boost.fit(x_train,y_train)"
   ]
  },
  {
   "cell_type": "code",
   "execution_count": null,
   "metadata": {},
   "outputs": [],
   "source": [
    "Print_result(grid_boost,x_train,x_test,y_train,y_test,train=True)\n",
    "Print_result(grid_boost,x_train,x_test,y_train,y_test,train=False)"
   ]
  },
  {
   "cell_type": "code",
   "execution_count": null,
   "metadata": {},
   "outputs": [],
   "source": []
  },
  {
   "cell_type": "code",
   "execution_count": null,
   "metadata": {},
   "outputs": [],
   "source": []
  }
 ],
 "metadata": {
  "kernelspec": {
   "display_name": "Python 3",
   "language": "python",
   "name": "python3"
  },
  "language_info": {
   "codemirror_mode": {
    "name": "ipython",
    "version": 3
   },
   "file_extension": ".py",
   "mimetype": "text/x-python",
   "name": "python",
   "nbconvert_exporter": "python",
   "pygments_lexer": "ipython3",
   "version": "3.6.7"
  }
 },
 "nbformat": 4,
 "nbformat_minor": 4
}
